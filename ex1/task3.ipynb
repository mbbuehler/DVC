{
 "cells": [
  {
   "cell_type": "code",
   "execution_count": 2,
   "metadata": {
    "collapsed": false
   },
   "outputs": [],
   "source": [
    "import pandas as pd\n",
    "import plotly.plotly as py\n",
    "\n",
    "from ipywidgets import widgets \n",
    "from IPython.display import display\n",
    "from plotly.graph_objs import *\n",
    "from plotly.widgets import GraphWidget\n",
    "\n",
    "# import data\n",
    "complaints = pd.read_csv('https://raw.githubusercontent.com/plotly/datasets/master/gantt_example.csv')\n",
    "\n",
    "# we will define a function that will handle the input from the dropdown widget\n",
    "def update_plot(complaint):\n",
    "    #is_noise = complaints['Complaint Type'] == complaint['new']\n",
    "    is_noise = complaints['Resource'] == complaint['new']\n",
    "    temp = complaints[is_noise]\n",
    "    data = temp.groupby(complaints['Borough'])['Resource'].count()\n",
    "    \n",
    "    x = []\n",
    "    y = []\n",
    "    for i in range(len(data)):\n",
    "        x.append(data.index[i])\n",
    "        y.append(data[i])\n",
    "\n",
    "    graph.restyle({\n",
    "                'x': [x],\n",
    "                'y': [y],\n",
    "            })\n",
    "    graph.relayout({'title': 'Number of {} Complaints in New York by Borough'.format(complaint['new'])})\n",
    "\n",
    "w = widgets.Dropdown(\n",
    "    options= list(complaints['Resource'].unique()),\n",
    "    value='A',\n",
    "    description='Resource',  \n",
    ")\n",
    "\n",
    "graph = GraphWidget('https://plot.ly/~kevintest/1176/')\n",
    "\n",
    "# observe will set a listener for activity on our dropdown menu\n",
    "w.observe(update_plot, names=\"selected_label\") \n",
    "\n",
    "display(w)\n",
    "display(graph) "
   ]
  }
 ],
 "metadata": {
  "kernelspec": {
   "display_name": "Python 3",
   "language": "python",
   "name": "python3"
  },
  "language_info": {
   "codemirror_mode": {
    "name": "ipython",
    "version": 3
   },
   "file_extension": ".py",
   "mimetype": "text/x-python",
   "name": "python",
   "nbconvert_exporter": "python",
   "pygments_lexer": "ipython3",
   "version": "3.4.3"
  }
 },
 "nbformat": 4,
 "nbformat_minor": 1
}
