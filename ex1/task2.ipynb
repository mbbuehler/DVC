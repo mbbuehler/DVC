{
 "cells": [
  {
   "cell_type": "code",
   "execution_count": 4,
   "metadata": {
    "collapsed": false
   },
   "outputs": [],
   "source": [
    "import plotly.plotly as py\n",
    "import cufflinks as cf\n",
    "import pandas as pd\n",
    "import numpy as np\n",
    "import plotly.graph_objs as go"
   ]
  },
  {
   "cell_type": "code",
   "execution_count": 5,
   "metadata": {
    "collapsed": false
   },
   "outputs": [
    {
     "data": {
      "text/html": [
       "<div>\n",
       "<table border=\"1\" class=\"dataframe\">\n",
       "  <thead>\n",
       "    <tr style=\"text-align: right;\">\n",
       "      <th></th>\n",
       "      <th>Jahr</th>\n",
       "      <th>SexCd</th>\n",
       "      <th>SexKurz</th>\n",
       "      <th>StatZoneSort</th>\n",
       "      <th>StatZoneLang</th>\n",
       "      <th>QuarSort</th>\n",
       "      <th>QuarLang</th>\n",
       "      <th>AnzGebuWir</th>\n",
       "    </tr>\n",
       "  </thead>\n",
       "  <tbody>\n",
       "    <tr>\n",
       "      <th>0</th>\n",
       "      <td>2015</td>\n",
       "      <td>2</td>\n",
       "      <td>W</td>\n",
       "      <td>1101</td>\n",
       "      <td>Zähringerstrasse</td>\n",
       "      <td>11</td>\n",
       "      <td>Rathaus</td>\n",
       "      <td>2</td>\n",
       "    </tr>\n",
       "    <tr>\n",
       "      <th>1</th>\n",
       "      <td>2015</td>\n",
       "      <td>1</td>\n",
       "      <td>M</td>\n",
       "      <td>1101</td>\n",
       "      <td>Zähringerstrasse</td>\n",
       "      <td>11</td>\n",
       "      <td>Rathaus</td>\n",
       "      <td>2</td>\n",
       "    </tr>\n",
       "    <tr>\n",
       "      <th>2</th>\n",
       "      <td>2015</td>\n",
       "      <td>2</td>\n",
       "      <td>W</td>\n",
       "      <td>1102</td>\n",
       "      <td>Zentralbibliothek</td>\n",
       "      <td>11</td>\n",
       "      <td>Rathaus</td>\n",
       "      <td>1</td>\n",
       "    </tr>\n",
       "  </tbody>\n",
       "</table>\n",
       "</div>"
      ],
      "text/plain": [
       "   Jahr  SexCd SexKurz  StatZoneSort       StatZoneLang  QuarSort QuarLang  \\\n",
       "0  2015      2       W          1101   Zähringerstrasse        11  Rathaus   \n",
       "1  2015      1       M          1101   Zähringerstrasse        11  Rathaus   \n",
       "2  2015      2       W          1102  Zentralbibliothek        11  Rathaus   \n",
       "\n",
       "   AnzGebuWir  \n",
       "0           2  \n",
       "1           2  \n",
       "2           1  "
      ]
     },
     "execution_count": 5,
     "metadata": {},
     "output_type": "execute_result"
    }
   ],
   "source": [
    "raw_df = pd.read_csv('bevgeburtenjahrgeschlquartstz.csv')\n",
    "columns = [f for f in raw_df]\n",
    "columns[0] = \"Jahr\"\n",
    "raw_df.columns = columns\n",
    "raw_df = raw_df[raw_df['Jahr']==2015]\n",
    "raw_df[:3]"
   ]
  },
  {
   "cell_type": "code",
   "execution_count": 6,
   "metadata": {
    "collapsed": false
   },
   "outputs": [
    {
     "data": {
      "text/html": [
       "<div>\n",
       "<table border=\"1\" class=\"dataframe\">\n",
       "  <thead>\n",
       "    <tr style=\"text-align: right;\">\n",
       "      <th></th>\n",
       "      <th>SexKurz</th>\n",
       "      <th>0</th>\n",
       "    </tr>\n",
       "  </thead>\n",
       "  <tbody>\n",
       "    <tr>\n",
       "      <th>0</th>\n",
       "      <td>Male</td>\n",
       "      <td>2713</td>\n",
       "    </tr>\n",
       "    <tr>\n",
       "      <th>1</th>\n",
       "      <td>Female</td>\n",
       "      <td>2478</td>\n",
       "    </tr>\n",
       "  </tbody>\n",
       "</table>\n",
       "</div>"
      ],
      "text/plain": [
       "  SexKurz     0\n",
       "0    Male  2713\n",
       "1  Female  2478"
      ]
     },
     "execution_count": 6,
     "metadata": {},
     "output_type": "execute_result"
    }
   ],
   "source": [
    "result = raw_df.groupby('SexKurz').apply(lambda x: x.AnzGebuWir.sum()).reset_index()\n",
    "result['SexKurz'] = ['Male', 'Female']\n",
    "result"
   ]
  },
  {
   "cell_type": "code",
   "execution_count": 7,
   "metadata": {
    "collapsed": false
   },
   "outputs": [
    {
     "data": {
      "text/html": [
       "<div id=\"007f7b9e-009e-4a42-b510-9e7e49a0fe6b\" style=\"height: 525px; width: 100%;\" class=\"plotly-graph-div\"></div><script type=\"text/javascript\">require([\"plotly\"], function(Plotly) { window.PLOTLYENV=window.PLOTLYENV || {};window.PLOTLYENV.BASE_URL=\"https://plot.ly\";Plotly.newPlot(\"007f7b9e-009e-4a42-b510-9e7e49a0fe6b\", [{\"name\": \"\", \"textinfo\": \"values+percent\", \"type\": \"pie\", \"values\": [2713, 2478], \"labels\": [\"Male\", \"Female\"], \"marker\": {\"colors\": [\"rgba(226, 74, 51, 1.0)\", \"rgba(62, 111, 176, 1.0)\"]}}], {\"titlefont\": {\"color\": \"#151516\"}, \"legend\": {\"bgcolor\": \"#FFFFFF\", \"font\": {\"color\": \"#666666\"}}, \"title\": \"Number of Births in ZH (2015)\", \"plot_bgcolor\": \"#E5E5E5\", \"paper_bgcolor\": \"#FFFFFF\"}, {\"showLink\": true, \"linkText\": \"Export to plot.ly\"})});</script>"
      ],
      "text/plain": [
       "<IPython.core.display.HTML object>"
      ]
     },
     "metadata": {},
     "output_type": "display_data"
    }
   ],
   "source": [
    "layout = go.Layout(\n",
    "    title='Plot Title',\n",
    "    )\n",
    "title = 'Number of Births in ZH (2015)'\n",
    "result.iplot(kind='pie',labels='SexKurz',values=0, textinfo='values+percent', title=title)"
   ]
  },
  {
   "cell_type": "code",
   "execution_count": null,
   "metadata": {
    "collapsed": true
   },
   "outputs": [],
   "source": []
  },
  {
   "cell_type": "code",
   "execution_count": null,
   "metadata": {
    "collapsed": true
   },
   "outputs": [],
   "source": []
  }
 ],
 "metadata": {
  "kernelspec": {
   "display_name": "Python 3",
   "language": "python",
   "name": "python3"
  },
  "language_info": {
   "codemirror_mode": {
    "name": "ipython",
    "version": 3
   },
   "file_extension": ".py",
   "mimetype": "text/x-python",
   "name": "python",
   "nbconvert_exporter": "python",
   "pygments_lexer": "ipython3",
   "version": "3.4.3"
  }
 },
 "nbformat": 4,
 "nbformat_minor": 1
}
