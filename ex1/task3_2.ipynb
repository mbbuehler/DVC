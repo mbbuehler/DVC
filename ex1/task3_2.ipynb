{
 "cells": [
  {
   "cell_type": "code",
   "execution_count": 30,
   "metadata": {
    "collapsed": false
   },
   "outputs": [],
   "source": [
    "from ipywidgets import widgets, interact\n",
    "from __future__ import print_function"
   ]
  },
  {
   "cell_type": "code",
   "execution_count": 2,
   "metadata": {
    "collapsed": true
   },
   "outputs": [],
   "source": [
    "from IPython.display import display"
   ]
  },
  {
   "cell_type": "code",
   "execution_count": 37,
   "metadata": {
    "collapsed": false
   },
   "outputs": [
    {
     "data": {
      "text/plain": [
       "2016"
      ]
     },
     "metadata": {},
     "output_type": "display_data"
    },
    {
     "data": {
      "text/plain": [
       "<function ipywidgets.widgets.interaction.interact>"
      ]
     },
     "metadata": {},
     "output_type": "display_data"
    }
   ],
   "source": [
    "select = widgets.Dropdown(\n",
    "    options=[1,2,3,4],\n",
    "    value=2,\n",
    "    description='Area',\n",
    "    disabled=False,\n",
    "    button_style=''\n",
    ")\n",
    "year_from = widgets.Text(description='Year from', value='2016')\n",
    "year_to = widgets.Text(description='Year To', value='2016')\n",
    "display(year_from)\n",
    "display(year_to)\n",
    "\n",
    "def handle_submit():\n",
    "    result = abs(int(year_to.value)-int(year_from.value)*select.value)\n",
    "    return result\n",
    "    \n",
    "interact(handle_submit,x=select)\n",
    "display(interact)\n"
   ]
  },
  {
   "cell_type": "code",
   "execution_count": null,
   "metadata": {
    "collapsed": true
   },
   "outputs": [],
   "source": []
  },
  {
   "cell_type": "code",
   "execution_count": null,
   "metadata": {
    "collapsed": true
   },
   "outputs": [],
   "source": []
  }
 ],
 "metadata": {
  "kernelspec": {
   "display_name": "Python 3",
   "language": "python",
   "name": "python3"
  },
  "language_info": {
   "codemirror_mode": {
    "name": "ipython",
    "version": 3
   },
   "file_extension": ".py",
   "mimetype": "text/x-python",
   "name": "python",
   "nbconvert_exporter": "python",
   "pygments_lexer": "ipython3",
   "version": "3.4.3"
  },
  "widgets": {
   "state": {
    "064c873f6be74e59896fdc8207701941": {
     "views": [
      {
       "cell_index": 2
      }
     ]
    },
    "1b20d967228a4c44a83ee913e8d938b0": {
     "views": [
      {
       "cell_index": 2
      }
     ]
    },
    "212c7dc5a2da4e97978b9e762e1c7ad2": {
     "views": [
      {
       "cell_index": 2
      }
     ]
    },
    "2bcedc36b888479ab2f1c1b9c1d53202": {
     "views": [
      {
       "cell_index": 2
      }
     ]
    },
    "3a47dbb9edbd477ca0296c57d29fbbce": {
     "views": [
      {
       "cell_index": 2
      }
     ]
    },
    "3ae28b588f6b468b9ca27c416b6140f2": {
     "views": [
      {
       "cell_index": 2
      }
     ]
    },
    "46cd911122d045ceb5a9e9421f466951": {
     "views": [
      {
       "cell_index": 2
      }
     ]
    },
    "5e67ecca46ed4496b3b340c03e1ae659": {
     "views": [
      {
       "cell_index": 2
      }
     ]
    },
    "5ec0c76ae6d84b2fab736793f3e65bfe": {
     "views": [
      {
       "cell_index": 2
      }
     ]
    },
    "6c2d89193d3444e580a378c8134d3d22": {
     "views": [
      {
       "cell_index": 2
      }
     ]
    },
    "722065a9ee9e4d9e9c5ce81492c1f51d": {
     "views": [
      {
       "cell_index": 2
      }
     ]
    },
    "770c0f56ee8f48a18a1c0e60d38d7d26": {
     "views": [
      {
       "cell_index": 2
      }
     ]
    },
    "8882e5f733f144b7b3a087793dcfa88d": {
     "views": [
      {
       "cell_index": 2
      }
     ]
    },
    "8ab4ce349e96432f8cda715fa80ab26f": {
     "views": [
      {
       "cell_index": 2
      }
     ]
    },
    "b448d46bf6f348029e23d53a0b9eb6a8": {
     "views": [
      {
       "cell_index": 2
      }
     ]
    },
    "bb3e847ac6104be4a8bb32fd22a108c7": {
     "views": [
      {
       "cell_index": 2
      }
     ]
    },
    "c45bef73ec5047318ab150666927b212": {
     "views": [
      {
       "cell_index": 2
      }
     ]
    },
    "cb7817e8507e463e8a76c6dcb84e2c2a": {
     "views": [
      {
       "cell_index": 2
      }
     ]
    },
    "cbee60f970874902b5061fdd2f38aeed": {
     "views": [
      {
       "cell_index": 2
      }
     ]
    },
    "e222b371b5f7414e94ede329303f5109": {
     "views": [
      {
       "cell_index": 2
      }
     ]
    },
    "ed1236a233154a2691200287a761b1af": {
     "views": [
      {
       "cell_index": 2
      }
     ]
    },
    "fb2336b126634916b44ad6ffa050a63d": {
     "views": [
      {
       "cell_index": 2
      }
     ]
    }
   },
   "version": "1.2.0"
  }
 },
 "nbformat": 4,
 "nbformat_minor": 1
}
